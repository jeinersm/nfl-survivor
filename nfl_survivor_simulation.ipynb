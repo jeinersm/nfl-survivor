{
 "cells": [
  {
   "cell_type": "markdown",
   "metadata": {},
   "source": [
    "# Using Integer Programming to Win your Office NFL Survivor Pool\n",
    "\n",
    "Max Livingston\n",
    "\n",
    "2019-11-15\n",
    "\n",
    "For the past couple years, the Freebird office has done an NFL Survivor League Pool. For those who are unfamiliar (like I was when we started doing this), the way a Survivor League works is:\n",
    "1. Each week you have to pick a single team to win its game.\n",
    "1. If the team wins, you advance to the next week. If they lose, you're out.\n",
    "1. Once you've picked a team you can never pick them again.\n",
    "\n",
    "The basic strategy revolves around (a) figuring out how likely different teams are to win and (b) figuring out when to pick a strong team (a relatively safe pick) vs. saving them for a later week. There are lots of sources for determining team skill and estimating the odds of individual games, so in this post I'm going to take that as a given and assume we have an oracle (in this case, 538's forecast) that tells us each team's win probability for each week, and focus on determining a strategy for picking teams.\n",
    "\n",
    "I'm going to compare two strategies: a greedy strategy and then an optimal strategy (as determined by using the computer to solve a constrained optimization problem). The idea for this analysis came out of a conversation with a colleague about how bad it would actually be to just pick the surest thing each week. An important aspect of this setup is that you only need to outlast everyone else in your pool; you don't necessarily have to make it to the end (last year it was over for our group by the fourth week!)."
   ]
  },
  {
   "cell_type": "code",
   "execution_count": 1,
   "metadata": {},
   "outputs": [],
   "source": [
    "import pandas as pd\n",
    "import numpy as np\n",
    "import matplotlib.pyplot as plt\n",
    "from scipy.special import expit\n",
    "\n",
    "from pyomo import environ as pe\n",
    "\n",
    "%matplotlib inline"
   ]
  },
  {
   "cell_type": "markdown",
   "metadata": {},
   "source": [
    "# Get and clean data"
   ]
  },
  {
   "cell_type": "markdown",
   "metadata": {},
   "source": [
    "I'm using 538's [ELO-based NFL forecast](https://github.com/fivethirtyeight/data/tree/master/nfl-elo) to get the probability of each team winning each game that they play. I am not using the actual observed outcomes of the games, and thus am assuming that 538's probability is well-calibrated (that is, a team that they say has a 75% chance of winning will indeed win that game 3 out of 4 times, on average). "
   ]
  },
  {
   "cell_type": "code",
   "execution_count": 2,
   "metadata": {},
   "outputs": [],
   "source": [
    "# From: https://github.com/Neil-Paine-1/NFL-elo-ratings/blob/main/NFL-elo-ratings.csv\n",
    "fivethirtyeight_forecast = pd.read_csv('https://github.com/Neil-Paine-1/NFL-elo-ratings/blob/main/NFL-elo-ratings.csv', parse_dates=['date'])\n",
    "\n",
    "# We only want regular season\n",
    "fivethirtyeight_forecast = fivethirtyeight_forecast[\n",
    "    pd.isnull(fivethirtyeight_forecast['playoff'])\n",
    "].copy()\n",
    "assert len(fivethirtyeight_forecast) == 256"
   ]
  },
  {
   "cell_type": "code",
   "execution_count": 3,
   "metadata": {},
   "outputs": [],
   "source": [
    "# Extract weeks from the game dates\n",
    "fivethirtyeight_forecast['week'] = fivethirtyeight_forecast['date'].dt.to_period('W-WED')\n",
    "_, fivethirtyeight_forecast['week_id'] = np.unique(fivethirtyeight_forecast['week'],\n",
    "                                                   return_inverse=True)\n",
    "fivethirtyeight_forecast['week_id'] += 1\n"
   ]
  },
  {
   "cell_type": "code",
   "execution_count": 4,
   "metadata": {},
   "outputs": [
    {
     "data": {
      "image/png": "[encoded data removed]",
      "text/plain": [
       "<Figure size 432x288 with 1 Axes>"
      ]
     },
     "metadata": {
      "needs_background": "light"
     },
     "output_type": "display_data"
    }
   ],
   "source": [
    "fivethirtyeight_forecast[['qbelo_prob1', 'qbelo_prob2']].max(axis=1).hist(bins='auto');\n",
    "plt.title(\"Distribution of Win Probability for the favorite team in each game\");"
   ]
  },
  {
   "cell_type": "code",
   "execution_count": 5,
   "metadata": {},
   "outputs": [],
   "source": [
    "# We want a dataframe where each row is week-team (so two rows per match -- one for each team)\n",
    "expanded_df = pd.concat([\n",
    "    fivethirtyeight_forecast[['week_id', 'team1', 'qbelo_prob1']].rename(\n",
    "        columns={'week_id': 'week',\n",
    "                 'team1': 'team',\n",
    "                 'qbelo_prob1': 'win_prob'}),\n",
    "    fivethirtyeight_forecast[['week_id', 'team2', 'qbelo_prob2']].rename(\n",
    "        columns={'week_id': 'week',\n",
    "                 'team2': 'team',\n",
    "                 'qbelo_prob2': 'win_prob'}),\n",
    "])\n",
    "expanded_df.sort_values('week', inplace=True)\n",
    "assert len(expanded_df) == 256 * 2\n",
    "uniq_teams = expanded_df[\"team\"].unique()\n",
    "n_weeks = expanded_df['week'].max()"
   ]
  },
  {
   "cell_type": "code",
   "execution_count": 6,
   "metadata": {},
   "outputs": [
    {
     "data": {
      "text/html": [
       "<div>\n",
       "<style scoped>\n",
       "    .dataframe tbody tr th:only-of-type {\n",
       "        vertical-align: middle;\n",
       "    }\n",
       "\n",
       "    .dataframe tbody tr th {\n",
       "        vertical-align: top;\n",
       "    }\n",
       "\n",
       "    .dataframe thead th {\n",
       "        text-align: right;\n",
       "    }\n",
       "</style>\n",
       "<table border=\"1\" class=\"dataframe\">\n",
       "  <thead>\n",
       "    <tr style=\"text-align: right;\">\n",
       "      <th></th>\n",
       "      <th>week</th>\n",
       "      <th>team</th>\n",
       "      <th>win_prob</th>\n",
       "    </tr>\n",
       "  </thead>\n",
       "  <tbody>\n",
       "    <tr>\n",
       "      <td>0</td>\n",
       "      <td>1</td>\n",
       "      <td>CHI</td>\n",
       "      <td>0.640182</td>\n",
       "    </tr>\n",
       "    <tr>\n",
       "      <td>12</td>\n",
       "      <td>1</td>\n",
       "      <td>DET</td>\n",
       "      <td>0.510370</td>\n",
       "    </tr>\n",
       "    <tr>\n",
       "      <td>11</td>\n",
       "      <td>1</td>\n",
       "      <td>NYG</td>\n",
       "      <td>0.257070</td>\n",
       "    </tr>\n",
       "    <tr>\n",
       "      <td>10</td>\n",
       "      <td>1</td>\n",
       "      <td>SF</td>\n",
       "      <td>0.454431</td>\n",
       "    </tr>\n",
       "    <tr>\n",
       "      <td>9</td>\n",
       "      <td>1</td>\n",
       "      <td>CIN</td>\n",
       "      <td>0.246160</td>\n",
       "    </tr>\n",
       "  </tbody>\n",
       "</table>\n",
       "</div>"
      ],
      "text/plain": [
       "    week team  win_prob\n",
       "0      1  CHI  0.640182\n",
       "12     1  DET  0.510370\n",
       "11     1  NYG  0.257070\n",
       "10     1   SF  0.454431\n",
       "9      1  CIN  0.246160"
      ]
     },
     "execution_count": 6,
     "metadata": {},
     "output_type": "execute_result"
    }
   ],
   "source": [
    "expanded_df.head()"
   ]
  },
  {
   "cell_type": "markdown",
   "metadata": {},
   "source": [
    "# Strategy 1: Greedy"
   ]
  },
  {
   "cell_type": "markdown",
   "metadata": {},
   "source": [
    "Given win probabiltiies for each matchup, each week the strategy is to just pick the team with the highest probability of winning for that week, excluding any teams that have been picked in previous weeks."
   ]
  },
  {
   "cell_type": "code",
   "execution_count": 7,
   "metadata": {},
   "outputs": [],
   "source": [
    "def make_greedy_picks(df, n_weeks=n_weeks):\n",
    "    picks = []\n",
    "    win_probs = []\n",
    "    for week in range(1, n_weeks + 1):\n",
    "        week_matches = df[df[\"week\"] == week].copy()     \n",
    "        selection = (week_matches[~week_matches[\"team\"].isin(picks)]\n",
    "                     .sort_values(\"win_prob\", ascending=False)\n",
    "                     .iloc[0])\n",
    "        picks.append(selection['team'])\n",
    "        win_probs.append(selection['win_prob'])\n",
    "    return picks, win_probs"
   ]
  },
  {
   "cell_type": "code",
   "execution_count": 8,
   "metadata": {},
   "outputs": [],
   "source": [
    "greedy_picks, win_probs = make_greedy_picks(expanded_df)\n",
    "assert len(greedy_picks) == len(np.unique(greedy_picks)) == expanded_df['week'].max()"
   ]
  },
  {
   "cell_type": "code",
   "execution_count": 9,
   "metadata": {},
   "outputs": [],
   "source": [
    "greedy_picks_df = pd.DataFrame({'week': np.arange(1, n_weeks + 1),\n",
    "                                'pick': greedy_picks,\n",
    "                                'win_prob': win_probs})\n",
    "greedy_picks_df['prob_surviving'] = greedy_picks_df['win_prob'].cumprod()"
   ]
  },
  {
   "cell_type": "markdown",
   "metadata": {},
   "source": [
    "Here are the results for the greedy algorithm"
   ]
  },
  {
   "cell_type": "code",
   "execution_count": 10,
   "metadata": {},
   "outputs": [
    {
     "data": {
      "image/png": "[encoded data removed]",
      "text/plain": [
       "<Figure size 432x288 with 1 Axes>"
      ]
     },
     "metadata": {
      "needs_background": "light"
     },
     "output_type": "display_data"
    }
   ],
   "source": [
    "plt.plot(greedy_picks_df['week'], greedy_picks_df['prob_surviving'])\n",
    "plt.xlabel(\"Week\")\n",
    "plt.ylabel(\"Probability of Surviving\");"
   ]
  },
  {
   "cell_type": "code",
   "execution_count": 11,
   "metadata": {},
   "outputs": [
    {
     "data": {
      "text/html": [
       "<div>\n",
       "<style scoped>\n",
       "    .dataframe tbody tr th:only-of-type {\n",
       "        vertical-align: middle;\n",
       "    }\n",
       "\n",
       "    .dataframe tbody tr th {\n",
       "        vertical-align: top;\n",
       "    }\n",
       "\n",
       "    .dataframe thead th {\n",
       "        text-align: right;\n",
       "    }\n",
       "</style>\n",
       "<table border=\"1\" class=\"dataframe\">\n",
       "  <thead>\n",
       "    <tr style=\"text-align: right;\">\n",
       "      <th></th>\n",
       "      <th>week</th>\n",
       "      <th>pick</th>\n",
       "      <th>win_prob</th>\n",
       "      <th>prob_surviving</th>\n",
       "    </tr>\n",
       "  </thead>\n",
       "  <tbody>\n",
       "    <tr>\n",
       "      <td>0</td>\n",
       "      <td>1</td>\n",
       "      <td>PHI</td>\n",
       "      <td>0.774390</td>\n",
       "      <td>0.774390</td>\n",
       "    </tr>\n",
       "    <tr>\n",
       "      <td>1</td>\n",
       "      <td>2</td>\n",
       "      <td>NE</td>\n",
       "      <td>0.813639</td>\n",
       "      <td>0.630073</td>\n",
       "    </tr>\n",
       "    <tr>\n",
       "      <td>2</td>\n",
       "      <td>3</td>\n",
       "      <td>DAL</td>\n",
       "      <td>0.910799</td>\n",
       "      <td>0.573870</td>\n",
       "    </tr>\n",
       "    <tr>\n",
       "      <td>3</td>\n",
       "      <td>4</td>\n",
       "      <td>LAR</td>\n",
       "      <td>0.829112</td>\n",
       "      <td>0.475803</td>\n",
       "    </tr>\n",
       "    <tr>\n",
       "      <td>4</td>\n",
       "      <td>5</td>\n",
       "      <td>KC</td>\n",
       "      <td>0.823315</td>\n",
       "      <td>0.391736</td>\n",
       "    </tr>\n",
       "    <tr>\n",
       "      <td>5</td>\n",
       "      <td>6</td>\n",
       "      <td>BAL</td>\n",
       "      <td>0.822380</td>\n",
       "      <td>0.322156</td>\n",
       "    </tr>\n",
       "    <tr>\n",
       "      <td>6</td>\n",
       "      <td>7</td>\n",
       "      <td>BUF</td>\n",
       "      <td>0.830516</td>\n",
       "      <td>0.267555</td>\n",
       "    </tr>\n",
       "    <tr>\n",
       "      <td>7</td>\n",
       "      <td>8</td>\n",
       "      <td>MIN</td>\n",
       "      <td>0.884924</td>\n",
       "      <td>0.236766</td>\n",
       "    </tr>\n",
       "    <tr>\n",
       "      <td>8</td>\n",
       "      <td>9</td>\n",
       "      <td>SEA</td>\n",
       "      <td>0.761350</td>\n",
       "      <td>0.180262</td>\n",
       "    </tr>\n",
       "    <tr>\n",
       "      <td>9</td>\n",
       "      <td>10</td>\n",
       "      <td>NO</td>\n",
       "      <td>0.880208</td>\n",
       "      <td>0.158668</td>\n",
       "    </tr>\n",
       "    <tr>\n",
       "      <td>10</td>\n",
       "      <td>11</td>\n",
       "      <td>OAK</td>\n",
       "      <td>0.857038</td>\n",
       "      <td>0.135985</td>\n",
       "    </tr>\n",
       "    <tr>\n",
       "      <td>11</td>\n",
       "      <td>12</td>\n",
       "      <td>PIT</td>\n",
       "      <td>0.794946</td>\n",
       "      <td>0.108100</td>\n",
       "    </tr>\n",
       "    <tr>\n",
       "      <td>12</td>\n",
       "      <td>13</td>\n",
       "      <td>CAR</td>\n",
       "      <td>0.809208</td>\n",
       "      <td>0.087476</td>\n",
       "    </tr>\n",
       "    <tr>\n",
       "      <td>13</td>\n",
       "      <td>14</td>\n",
       "      <td>GB</td>\n",
       "      <td>0.886660</td>\n",
       "      <td>0.077561</td>\n",
       "    </tr>\n",
       "    <tr>\n",
       "      <td>14</td>\n",
       "      <td>15</td>\n",
       "      <td>SF</td>\n",
       "      <td>0.781768</td>\n",
       "      <td>0.060635</td>\n",
       "    </tr>\n",
       "    <tr>\n",
       "      <td>15</td>\n",
       "      <td>16</td>\n",
       "      <td>MIA</td>\n",
       "      <td>0.746530</td>\n",
       "      <td>0.045266</td>\n",
       "    </tr>\n",
       "    <tr>\n",
       "      <td>16</td>\n",
       "      <td>17</td>\n",
       "      <td>CLE</td>\n",
       "      <td>0.736199</td>\n",
       "      <td>0.033325</td>\n",
       "    </tr>\n",
       "  </tbody>\n",
       "</table>\n",
       "</div>"
      ],
      "text/plain": [
       "    week pick  win_prob  prob_surviving\n",
       "0      1  PHI  0.774390        0.774390\n",
       "1      2   NE  0.813639        0.630073\n",
       "2      3  DAL  0.910799        0.573870\n",
       "3      4  LAR  0.829112        0.475803\n",
       "4      5   KC  0.823315        0.391736\n",
       "5      6  BAL  0.822380        0.322156\n",
       "6      7  BUF  0.830516        0.267555\n",
       "7      8  MIN  0.884924        0.236766\n",
       "8      9  SEA  0.761350        0.180262\n",
       "9     10   NO  0.880208        0.158668\n",
       "10    11  OAK  0.857038        0.135985\n",
       "11    12  PIT  0.794946        0.108100\n",
       "12    13  CAR  0.809208        0.087476\n",
       "13    14   GB  0.886660        0.077561\n",
       "14    15   SF  0.781768        0.060635\n",
       "15    16  MIA  0.746530        0.045266\n",
       "16    17  CLE  0.736199        0.033325"
      ]
     },
     "execution_count": 11,
     "metadata": {},
     "output_type": "execute_result"
    }
   ],
   "source": [
    "greedy_picks_df"
   ]
  },
  {
   "cell_type": "markdown",
   "metadata": {},
   "source": [
    "# Strategy 2: Constrained Optimization"
   ]
  },
  {
   "cell_type": "markdown",
   "metadata": {},
   "source": [
    "So the greedy heuristic does OK, but can we do better using fancy math? Let's find out! We can pose our setup as a constrained optimization problem. Specifically, this is an [Integer Programming](https://en.wikipedia.org/wiki/Integer_programming) problem.\n",
    "\n",
    "Define $S \\in \\{0, 1\\}^{W \\times T}$ to be an indicator matrix for our picks, where $S_{w,t} = 1$ if we picked team $t$ to win in week $w$, and 0 otherwise.\n",
    "\n",
    "$\\mathrm{winprob}_{w,t}$ is the given probability of team $t$ winning in the game that they're playing in week $w$.\n",
    "\n",
    "Our optimization problem is then:\n",
    "\n",
    "\\begin{align}\n",
    "& \\max & & \\prod_w \\sum_t S_{w,t} \\mathrm{winprob}_{w,t} \\\\\n",
    "& \\textrm{such that} & & \\sum_t S_{w,t} = 1 \\; \\forall \\; w\\\\\n",
    "&               & & \\sum_w S_{w,t} \\le 1 \\; \\forall \\; t \n",
    "\\end{align}"
   ]
  },
  {
   "cell_type": "markdown",
   "metadata": {},
   "source": [
    "In words, what we're saying is that the probability of surviving to the end is equal to the product of the probability of winning each week (even one loss and we're out, so we need to win each week). We want to make picks that maximize this product, subject to the following two constraints:\n",
    "- we have to pick exactly one team each week\n",
    "- we can pick each team at most 1 time\n",
    "\n",
    "(To make the math and code slightly easier, we're actually going to take the log of $\\mathrm{winprob}$ and convert the objective function from a product to a sum)"
   ]
  },
  {
   "cell_type": "markdown",
   "metadata": {},
   "source": [
    "To do this optimization, we turn to the Python package `pyomo` (using the GNU Linear Programming Kit under the hood). I was previously unfamiliar with this package, but found this excellent tutorial from Stitchfix [here](https://multithreaded.stitchfix.com/blog/2018/06/21/constrained-optimization/). What follows is a relatively straightforward adaptation of the code presented in that post. Rather than parrot the `pyomo` explanations in that post, I'll refer you there for any questions about the functions. I was somewhat surprised at how much I was able to treat `pyomo` as a black box. I didn't have to specify the appropriate algorithm for binary integer programming as opposed to linear programming, it just figured it out."
   ]
  },
  {
   "cell_type": "code",
   "execution_count": 12,
   "metadata": {},
   "outputs": [],
   "source": [
    "expanded_df['log_win_prob'] = np.log(expanded_df['win_prob'])\n",
    "week_team_winprob = expanded_df.set_index(['week', 'team'])['log_win_prob'].to_dict()"
   ]
  },
  {
   "cell_type": "code",
   "execution_count": 13,
   "metadata": {},
   "outputs": [],
   "source": [
    "# Not every team plays every week. The simplest way it seemed for me to tell\n",
    "# the optimizer not to make a pick like that was to fill in the gaps with\n",
    "# very low win-probability. If the optimizer picks that team to win that \n",
    "# week, we've got a problem\n",
    "for week in expanded_df['week'].unique():\n",
    "    for team in expanded_df['team'].unique():\n",
    "        if (week, team) not in week_team_winprob:\n",
    "            week_team_winprob[(week, team)] = -1e9"
   ]
  },
  {
   "cell_type": "code",
   "execution_count": 14,
   "metadata": {},
   "outputs": [],
   "source": [
    "model = pe.ConcreteModel()\n",
    "\n",
    "model.weeks = pe.Set(initialize=expanded_df['week'].unique().tolist())\n",
    "model.teams = pe.Set(initialize=expanded_df['team'].unique().tolist())\n",
    "\n",
    "# Take win probabilities as a given\n",
    "model.win_probabilities = pe.Param(model.weeks * model.teams,\n",
    "                                   default=week_team_winprob)\n",
    "\n",
    "# This is the parameter we're optimizing\n",
    "model.picks = pe.Var(model.weeks * model.teams,\n",
    "                    domain=pe.Binary)\n",
    "\n",
    "# Our objective function\n",
    "model.objective = pe.Objective(\n",
    "    expr=pe.summation(model.win_probabilities, model.picks),\n",
    "    sense=pe.maximize)"
   ]
  },
  {
   "cell_type": "code",
   "execution_count": 15,
   "metadata": {},
   "outputs": [],
   "source": [
    "# Add constraints\n",
    "def one_team_per_week(model, week):\n",
    "    n_teams_per_week = sum(model.picks[week, team] for team in model.teams)\n",
    "    return n_teams_per_week == 1\n",
    "\n",
    "model.one_team_per_week = pe.Constraint(model.weeks, rule=one_team_per_week)\n",
    "\n",
    "def cant_pick_team_twice(model, team):\n",
    "    n_picks_per_team = sum(model.picks[week, team] for week in model.weeks)\n",
    "    return n_picks_per_team <= 1\n",
    "\n",
    "model.cant_pick_team_twice = pe.Constraint(model.teams, rule=cant_pick_team_twice)\n"
   ]
  },
  {
   "cell_type": "code",
   "execution_count": 16,
   "metadata": {},
   "outputs": [],
   "source": [
    "# Solve\n",
    "solver = pe.SolverFactory(\"glpk\")\n",
    "solution = solver.solve(model)"
   ]
  },
  {
   "cell_type": "markdown",
   "metadata": {},
   "source": [
    "# Comparison and Conclusion"
   ]
  },
  {
   "cell_type": "code",
   "execution_count": 17,
   "metadata": {},
   "outputs": [],
   "source": [
    "optimal_picks_df = pd.DataFrame(columns=['week', 'pick', 'win_prob'])\n",
    "for (week, team), picked in model.picks.get_values().items():\n",
    "    if picked:\n",
    "        optimal_picks_df = optimal_picks_df.append(\n",
    "            {'week': week,\n",
    "             'pick': team,\n",
    "             'win_prob': np.exp(week_team_winprob[(week, team)])},\n",
    "            ignore_index=True)\n",
    "optimal_picks_df['prob_surviving'] = optimal_picks_df['win_prob'].cumprod()\n"
   ]
  },
  {
   "cell_type": "code",
   "execution_count": 18,
   "metadata": {},
   "outputs": [],
   "source": [
    "comparison_df = pd.merge(greedy_picks_df[['week', 'pick', 'prob_surviving']],\n",
    "                         optimal_picks_df[['week', 'pick', 'prob_surviving']],\n",
    "                         on='week',\n",
    "                         suffixes=('_greedy', '_optimal'))"
   ]
  },
  {
   "cell_type": "code",
   "execution_count": 19,
   "metadata": {},
   "outputs": [
    {
     "data": {
      "text/plain": [
       "<matplotlib.legend.Legend at 0x11c7a5630>"
      ]
     },
     "execution_count": 19,
     "metadata": {},
     "output_type": "execute_result"
    },
    {
     "data": {
      "image/png": "[encoded data removed]",
      "text/plain": [
       "<Figure size 648x360 with 1 Axes>"
      ]
     },
     "metadata": {
      "needs_background": "light"
     },
     "output_type": "display_data"
    }
   ],
   "source": [
    "plt.figure(figsize=(9, 5))\n",
    "plt.plot(greedy_picks_df['week'], greedy_picks_df['prob_surviving'], label=\"Greedy Solution\")\n",
    "plt.plot(optimal_picks_df['week'], optimal_picks_df['prob_surviving'], label=\"Optimal Solution\")\n",
    "plt.xlabel(\"Week\")\n",
    "plt.ylabel(\"Probability of Surviving\");\n",
    "plt.legend()"
   ]
  },
  {
   "cell_type": "code",
   "execution_count": 20,
   "metadata": {},
   "outputs": [
    {
     "data": {
      "text/html": [
       "<div>\n",
       "<style scoped>\n",
       "    .dataframe tbody tr th:only-of-type {\n",
       "        vertical-align: middle;\n",
       "    }\n",
       "\n",
       "    .dataframe tbody tr th {\n",
       "        vertical-align: top;\n",
       "    }\n",
       "\n",
       "    .dataframe thead th {\n",
       "        text-align: right;\n",
       "    }\n",
       "</style>\n",
       "<table border=\"1\" class=\"dataframe\">\n",
       "  <thead>\n",
       "    <tr style=\"text-align: right;\">\n",
       "      <th></th>\n",
       "      <th>week</th>\n",
       "      <th>pick_greedy</th>\n",
       "      <th>prob_surviving_greedy</th>\n",
       "      <th>pick_optimal</th>\n",
       "      <th>prob_surviving_optimal</th>\n",
       "    </tr>\n",
       "  </thead>\n",
       "  <tbody>\n",
       "    <tr>\n",
       "      <td>0</td>\n",
       "      <td>1</td>\n",
       "      <td>PHI</td>\n",
       "      <td>0.774390</td>\n",
       "      <td>SEA</td>\n",
       "      <td>0.753840</td>\n",
       "    </tr>\n",
       "    <tr>\n",
       "      <td>1</td>\n",
       "      <td>2</td>\n",
       "      <td>NE</td>\n",
       "      <td>0.630073</td>\n",
       "      <td>HOU</td>\n",
       "      <td>0.606103</td>\n",
       "    </tr>\n",
       "    <tr>\n",
       "      <td>2</td>\n",
       "      <td>3</td>\n",
       "      <td>DAL</td>\n",
       "      <td>0.573870</td>\n",
       "      <td>NE</td>\n",
       "      <td>0.553267</td>\n",
       "    </tr>\n",
       "    <tr>\n",
       "      <td>3</td>\n",
       "      <td>4</td>\n",
       "      <td>LAR</td>\n",
       "      <td>0.475803</td>\n",
       "      <td>LAR</td>\n",
       "      <td>0.458720</td>\n",
       "    </tr>\n",
       "    <tr>\n",
       "      <td>4</td>\n",
       "      <td>5</td>\n",
       "      <td>KC</td>\n",
       "      <td>0.391736</td>\n",
       "      <td>PHI</td>\n",
       "      <td>0.394715</td>\n",
       "    </tr>\n",
       "    <tr>\n",
       "      <td>5</td>\n",
       "      <td>6</td>\n",
       "      <td>BAL</td>\n",
       "      <td>0.322156</td>\n",
       "      <td>LAC</td>\n",
       "      <td>0.315705</td>\n",
       "    </tr>\n",
       "    <tr>\n",
       "      <td>6</td>\n",
       "      <td>7</td>\n",
       "      <td>BUF</td>\n",
       "      <td>0.267555</td>\n",
       "      <td>BUF</td>\n",
       "      <td>0.262198</td>\n",
       "    </tr>\n",
       "    <tr>\n",
       "      <td>7</td>\n",
       "      <td>8</td>\n",
       "      <td>MIN</td>\n",
       "      <td>0.236766</td>\n",
       "      <td>MIN</td>\n",
       "      <td>0.232026</td>\n",
       "    </tr>\n",
       "    <tr>\n",
       "      <td>8</td>\n",
       "      <td>9</td>\n",
       "      <td>SEA</td>\n",
       "      <td>0.180262</td>\n",
       "      <td>SF</td>\n",
       "      <td>0.174773</td>\n",
       "    </tr>\n",
       "    <tr>\n",
       "      <td>9</td>\n",
       "      <td>10</td>\n",
       "      <td>NO</td>\n",
       "      <td>0.158668</td>\n",
       "      <td>CHI</td>\n",
       "      <td>0.141343</td>\n",
       "    </tr>\n",
       "    <tr>\n",
       "      <td>10</td>\n",
       "      <td>11</td>\n",
       "      <td>OAK</td>\n",
       "      <td>0.135985</td>\n",
       "      <td>OAK</td>\n",
       "      <td>0.121137</td>\n",
       "    </tr>\n",
       "    <tr>\n",
       "      <td>11</td>\n",
       "      <td>12</td>\n",
       "      <td>PIT</td>\n",
       "      <td>0.108100</td>\n",
       "      <td>PIT</td>\n",
       "      <td>0.096297</td>\n",
       "    </tr>\n",
       "    <tr>\n",
       "      <td>12</td>\n",
       "      <td>13</td>\n",
       "      <td>CAR</td>\n",
       "      <td>0.087476</td>\n",
       "      <td>CAR</td>\n",
       "      <td>0.077924</td>\n",
       "    </tr>\n",
       "    <tr>\n",
       "      <td>13</td>\n",
       "      <td>14</td>\n",
       "      <td>GB</td>\n",
       "      <td>0.077561</td>\n",
       "      <td>GB</td>\n",
       "      <td>0.069092</td>\n",
       "    </tr>\n",
       "    <tr>\n",
       "      <td>14</td>\n",
       "      <td>15</td>\n",
       "      <td>SF</td>\n",
       "      <td>0.060635</td>\n",
       "      <td>BAL</td>\n",
       "      <td>0.059718</td>\n",
       "    </tr>\n",
       "    <tr>\n",
       "      <td>15</td>\n",
       "      <td>16</td>\n",
       "      <td>MIA</td>\n",
       "      <td>0.045266</td>\n",
       "      <td>MIA</td>\n",
       "      <td>0.044581</td>\n",
       "    </tr>\n",
       "    <tr>\n",
       "      <td>16</td>\n",
       "      <td>17</td>\n",
       "      <td>CLE</td>\n",
       "      <td>0.033325</td>\n",
       "      <td>DAL</td>\n",
       "      <td>0.038817</td>\n",
       "    </tr>\n",
       "  </tbody>\n",
       "</table>\n",
       "</div>"
      ],
      "text/plain": [
       "   week pick_greedy  prob_surviving_greedy pick_optimal  \\\n",
       "0     1         PHI               0.774390          SEA   \n",
       "1     2          NE               0.630073          HOU   \n",
       "2     3         DAL               0.573870           NE   \n",
       "3     4         LAR               0.475803          LAR   \n",
       "4     5          KC               0.391736          PHI   \n",
       "5     6         BAL               0.322156          LAC   \n",
       "6     7         BUF               0.267555          BUF   \n",
       "7     8         MIN               0.236766          MIN   \n",
       "8     9         SEA               0.180262           SF   \n",
       "9    10          NO               0.158668          CHI   \n",
       "10   11         OAK               0.135985          OAK   \n",
       "11   12         PIT               0.108100          PIT   \n",
       "12   13         CAR               0.087476          CAR   \n",
       "13   14          GB               0.077561           GB   \n",
       "14   15          SF               0.060635          BAL   \n",
       "15   16         MIA               0.045266          MIA   \n",
       "16   17         CLE               0.033325          DAL   \n",
       "\n",
       "    prob_surviving_optimal  \n",
       "0                 0.753840  \n",
       "1                 0.606103  \n",
       "2                 0.553267  \n",
       "3                 0.458720  \n",
       "4                 0.394715  \n",
       "5                 0.315705  \n",
       "6                 0.262198  \n",
       "7                 0.232026  \n",
       "8                 0.174773  \n",
       "9                 0.141343  \n",
       "10                0.121137  \n",
       "11                0.096297  \n",
       "12                0.077924  \n",
       "13                0.069092  \n",
       "14                0.059718  \n",
       "15                0.044581  \n",
       "16                0.038817  "
      ]
     },
     "execution_count": 20,
     "metadata": {},
     "output_type": "execute_result"
    }
   ],
   "source": [
    "comparison_df"
   ]
  },
  {
   "cell_type": "markdown",
   "metadata": {},
   "source": [
    "We can see in the plot above that there's not a huge difference in survival probability between the two weeks. Examining the table below, we see that they do in fact make different picks, but the probability of surviving just isn't that different. The greedy solution does better for most of the season, but does in fact lose in the end to the IP-solver's optimal strategy. But the difference in surival probability between the two is not really very large (3.9% vs 3.3% of surviving all 17 weeks), which is bad news for all you optimization nerds who were hoping to crush the jocks at your office with simplex methods. Better stick to the traveling salesman problem."
   ]
  }
 ],
 "metadata": {
  "kernelspec": {
   "display_name": "nflsurvivor",
   "language": "python",
   "name": "nflsurvivor"
  },
  "language_info": {
   "codemirror_mode": {
    "name": "ipython",
    "version": 3
   },
   "file_extension": ".py",
   "mimetype": "text/x-python",
   "name": "python",
   "nbconvert_exporter": "python",
   "pygments_lexer": "ipython3",
   "version": "3.7.0"
  }
 },
 "nbformat": 4,
 "nbformat_minor": 2
}
